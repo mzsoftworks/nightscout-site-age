{
 "cells": [
  {
   "cell_type": "markdown",
   "id": "a12c1324-c35a-494a-bc4e-528c7a0b5697",
   "metadata": {},
   "source": [
    "# Introduction\n",
    "\n",
    "This is a script to show descriptive statistics of blood glucose values from a [Nightscout](https://nightscout.github.io/) instance. It simply displays blood glucose summary statistics stratified for each day the pump site has been in use.\n",
    "\n",
    "# Usage\n",
    "\n",
    "1. Fill the form with Nightscout API credentials and choose time range. Note that the Nightscout URL should be the bare base url to the Nightscout instance. \n",
    "1. From the menu bar select Runtime: Run All\n",
    "\n",
    "Alternatively, download the Notebook file [here](https://github.com/mzsoftworks/nightscout-site-age) and run the program on your local computer."
   ]
  },
  {
   "cell_type": "code",
   "execution_count": null,
   "id": "52fa1bf6-434e-4053-9722-a495f5e3c6f9",
   "metadata": {},
   "outputs": [],
   "source": [
    "# @title Configuration { display-mode: \"form\" }\n",
    "\n",
    "API_SECRET = \"\" # @param {type:\"string\"}\n",
    "NS_BASE_URL = \"\" # @param {type:\"string\"}\n",
    "START_DATE = \"2023-08-01\" # @param {type:\"date\"}\n",
    "END_DATE = \"2023-09-01\" # @param {type:\"date\"}\n",
    "BG_UNIT = \"mg/dl\" # @param [\"mg/dl\", \"mmol/l\"]"
   ]
  },
  {
   "cell_type": "code",
   "execution_count": null,
   "id": "96d3827d-98fd-401a-8d44-46a1ebe3b6ee",
   "metadata": {},
   "outputs": [],
   "source": [
    "# @title API requests { display-mode: \"form\" }\n",
    "\n",
    "from hashlib import sha1\n",
    "from datetime import date, datetime, timedelta\n",
    "import statistics\n",
    "from concurrent.futures import ThreadPoolExecutor\n",
    "\n",
    "import requests\n",
    "import pandas as pd\n",
    "import seaborn as sns\n",
    "import numpy as np\n",
    "import ipywidgets\n",
    "import matplotlib.pyplot as plt\n",
    "\n",
    "pd.set_option(\"display.precision\", 1)\n",
    "    \n",
    "days_to_iterate = (date.fromisoformat(END_DATE) - date.fromisoformat(START_DATE)).days+1\n",
    "\n",
    "print(f\"Loading {days_to_iterate} days...\")\n",
    "\n",
    "if days_to_iterate < 1:\n",
    "    raise RuntimeError(\"No days to fetch\")\n",
    "\n",
    "credential_headers = {\"Api-Secret\": sha1(bytes(API_SECRET,\"utf8\")).hexdigest()}\n",
    "\n",
    "def fetch_day(day_offset):\n",
    "    date_lt = pd.to_datetime(\"now\",utc=True) - pd.Timedelta(days=day_offset)\n",
    "    date_gte = date_lt - pd.Timedelta(days=1)\n",
    "    url = f\"{NS_BASE_URL}/api/v1/entries.json?find[date][$gte]={int(date_gte.timestamp()*1000)}&find[date][$lt]={int(date_lt.timestamp()*1000)}&count=10000\"\n",
    "    response = requests.get(url, headers=credential_headers)\n",
    "    response.raise_for_status()\n",
    "    return pd.read_json(response.text,convert_dates=[\"dateString\"])\n",
    "\n",
    "with ThreadPoolExecutor(max_workers=10) as pool:\n",
    "    days_of_entries = pool.map(fetch_day, range(days_to_iterate))\n",
    "\n",
    "entries = pd.concat(days_of_entries)\n",
    "\n",
    "url = f\"{NS_BASE_URL}/api/v1/treatments.json?find%5BeventType%5D=Site%20Change&find%5Bcreated_at%5D%5B%24lt%5D=2050-10-04\"\n",
    "res = requests.get(url,headers=credential_headers)\n",
    "res.raise_for_status()\n",
    "changes = pd.read_json(res.text, convert_dates=[\"created_at\"])"
   ]
  },
  {
   "cell_type": "code",
   "execution_count": null,
   "id": "da814f80-684e-42a3-a908-55d2f82a8f9a",
   "metadata": {},
   "outputs": [],
   "source": [
    "# @title Descriptive statistics { display-mode: \"form\" }\n",
    "\n",
    "def tir(glucoses):\n",
    "    return np.sum((glucoses >= 3.9/0.0555) & (glucoses < 10/0.0555)) / len(glucoses) * 100\n",
    "\n",
    "def low(glucoses):\n",
    "    return np.sum(glucoses < 3.9/0.0555) / len(glucoses) * 100\n",
    "\n",
    "def high(glucoses):\n",
    "    return np.sum(glucoses >= 10/0.0555) / len(glucoses) * 100\n",
    "\n",
    "entries_sort = entries.sort_values(\"dateString\")\n",
    "changes_sort = changes.sort_values(\"created_at\")\n",
    "\n",
    "merged_df = pd.merge_asof(entries_sort, changes_sort, left_on='dateString', right_on='created_at')\n",
    "\n",
    "merged_df[\"site_age_days\"] = (merged_df[\"dateString\"] - merged_df[\"created_at\"]).dt.floor(\"D\").dt.days\n",
    "merged_df[\"mmol/l\"] = merged_df[\"sgv\"] * 0.0555\n",
    "merged_df[\"mg/dl\"] = merged_df[\"sgv\"]\n",
    "\n",
    "merged_df.groupby(\"site_age_days\").agg({\n",
    "    \"mg/dl\" if BG_UNIT == \"mg/dl\" else \"mmol/l\":[\"count\", \"mean\",\"median\",\"std\"],\n",
    "    \"sgv\": [tir,low,high]\n",
    "})"
   ]
  },
  {
   "cell_type": "code",
   "execution_count": null,
   "id": "db9cbd97-17b3-4201-82da-2629da348dba",
   "metadata": {},
   "outputs": [],
   "source": [
    "# @title Boxplot { display-mode: \"form\" }\n",
    "\n",
    "sns.boxplot(data=merged_df, y=\"mg/dl\" if BG_UNIT ==\"mg/dl\" else \"mmol/l\",x=\"site_age_days\",orient=\"v\");"
   ]
  }
 ],
 "metadata": {
  "kernelspec": {
   "display_name": "Python 3 (ipykernel)",
   "language": "python",
   "name": "python3"
  },
  "language_info": {
   "codemirror_mode": {
    "name": "ipython",
    "version": 3
   },
   "file_extension": ".py",
   "mimetype": "text/x-python",
   "name": "python",
   "nbconvert_exporter": "python",
   "pygments_lexer": "ipython3",
   "version": "3.10.11"
  }
 },
 "nbformat": 4,
 "nbformat_minor": 5
}
